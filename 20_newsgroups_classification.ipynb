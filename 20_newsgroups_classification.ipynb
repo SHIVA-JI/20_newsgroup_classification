{
 "cells": [
  {
   "cell_type": "markdown",
   "id": "6ecc359a",
   "metadata": {},
   "source": [
    "# 1- Load dataset"
   ]
  },
  {
   "cell_type": "code",
   "execution_count": 1,
   "id": "e18b7ab1",
   "metadata": {},
   "outputs": [],
   "source": [
    "from sklearn.datasets import fetch_20newsgroups"
   ]
  },
  {
   "cell_type": "code",
   "execution_count": 2,
   "id": "f6f9e416",
   "metadata": {},
   "outputs": [],
   "source": [
    "train =fetch_20newsgroups(subset='train')"
   ]
  },
  {
   "cell_type": "code",
   "execution_count": 3,
   "id": "c6d07675",
   "metadata": {},
   "outputs": [
    {
     "name": "stdout",
     "output_type": "stream",
     "text": [
      "dict_keys(['data', 'filenames', 'target_names', 'target', 'DESCR'])\n"
     ]
    }
   ],
   "source": [
    "print(train.keys())"
   ]
  },
  {
   "cell_type": "code",
   "execution_count": 4,
   "id": "ae0f41db",
   "metadata": {},
   "outputs": [
    {
     "data": {
      "text/plain": [
       "['alt.atheism',\n",
       " 'comp.graphics',\n",
       " 'comp.os.ms-windows.misc',\n",
       " 'comp.sys.ibm.pc.hardware',\n",
       " 'comp.sys.mac.hardware',\n",
       " 'comp.windows.x',\n",
       " 'misc.forsale',\n",
       " 'rec.autos',\n",
       " 'rec.motorcycles',\n",
       " 'rec.sport.baseball',\n",
       " 'rec.sport.hockey',\n",
       " 'sci.crypt',\n",
       " 'sci.electronics',\n",
       " 'sci.med',\n",
       " 'sci.space',\n",
       " 'soc.religion.christian',\n",
       " 'talk.politics.guns',\n",
       " 'talk.politics.mideast',\n",
       " 'talk.politics.misc',\n",
       " 'talk.religion.misc']"
      ]
     },
     "execution_count": 4,
     "metadata": {},
     "output_type": "execute_result"
    }
   ],
   "source": [
    "train.target_names"
   ]
  },
  {
   "cell_type": "code",
   "execution_count": null,
   "id": "77e9ca45",
   "metadata": {},
   "outputs": [],
   "source": []
  },
  {
   "cell_type": "code",
   "execution_count": 5,
   "id": "50050e72",
   "metadata": {},
   "outputs": [],
   "source": [
    "c=['comp.graphics','rec.motorcycles','talk.politics.guns']"
   ]
  },
  {
   "cell_type": "code",
   "execution_count": 6,
   "id": "ea225be1",
   "metadata": {},
   "outputs": [],
   "source": [
    "train =fetch_20newsgroups(subset='train',categories=c)\n",
    "\n",
    "test = fetch_20newsgroups(subset='test',categories=c)"
   ]
  },
  {
   "cell_type": "code",
   "execution_count": 7,
   "id": "ce9fff37",
   "metadata": {},
   "outputs": [
    {
     "data": {
      "text/plain": [
       "(1728,)"
      ]
     },
     "execution_count": 7,
     "metadata": {},
     "output_type": "execute_result"
    }
   ],
   "source": [
    "train.filenames.shape"
   ]
  },
  {
   "cell_type": "code",
   "execution_count": 8,
   "id": "5e500c2e",
   "metadata": {},
   "outputs": [
    {
     "data": {
      "text/plain": [
       "(1728,)"
      ]
     },
     "execution_count": 8,
     "metadata": {},
     "output_type": "execute_result"
    }
   ],
   "source": [
    "train.target.shape"
   ]
  },
  {
   "cell_type": "code",
   "execution_count": 9,
   "id": "3f782929",
   "metadata": {},
   "outputs": [
    {
     "data": {
      "text/plain": [
       "(1151,)"
      ]
     },
     "execution_count": 9,
     "metadata": {},
     "output_type": "execute_result"
    }
   ],
   "source": [
    "test.filenames.shape"
   ]
  },
  {
   "cell_type": "code",
   "execution_count": 10,
   "id": "8f3e395f",
   "metadata": {},
   "outputs": [
    {
     "data": {
      "text/plain": [
       "{0, 1, 2}"
      ]
     },
     "execution_count": 10,
     "metadata": {},
     "output_type": "execute_result"
    }
   ],
   "source": [
    "set(train.target)"
   ]
  },
  {
   "cell_type": "code",
   "execution_count": 11,
   "id": "43e7a694",
   "metadata": {},
   "outputs": [
    {
     "data": {
      "text/plain": [
       "\"From: ricardo@rchland.vnet.ibm.com (Ricardo Hernandez Muchado)\\nSubject: Re: Newsgroup Split\\nDisclaimer: This posting represents the poster's views, not necessarily those of IBM\\nNntp-Posting-Host: rs43873.rchland.ibm.com\\nOrganization: IBM Rochester\\nLines: 21\\n\\nIn article <1quvdoINN3e7@srvr1.engin.umich.edu>, tdawson@engin.umich.edu (Chris Herringshaw) writes:\\n|> Concerning the proposed newsgroup split, I personally am not in favor of\\n|> doing this.  I learn an awful lot about all aspects of graphics by reading\\n|> this group, from code to hardware to algorithms.  I just think making 5\\n|> different groups out of this is a wate, and will only result in a few posts\\n|> a week per group.  I kind of like the convenience of having one big forum\\n|> for discussing all aspects of graphics.  Anyone else feel this way?\\n|> Just curious.\\n|> \\n|> \\n|> Daemon\\n|> \\n\\n   I agree with you.\\n\\n--------------------------------------\\nRaist  New A1200 owner   320<->1280 in x, 200<->600 in y\\nin 256,000+ colors from a 24-bit palette.  **I LOVE IT!**<- New Low Fat .sig\\n*don't e-mail me* -> I don't have a valid address nor can I send e-mail\\n\\n  \\n\""
      ]
     },
     "execution_count": 11,
     "metadata": {},
     "output_type": "execute_result"
    }
   ],
   "source": [
    "train.data[5]"
   ]
  },
  {
   "cell_type": "code",
   "execution_count": 12,
   "id": "8cc7889c",
   "metadata": {},
   "outputs": [],
   "source": [
    "import numpy as np"
   ]
  },
  {
   "cell_type": "code",
   "execution_count": 13,
   "id": "d01cee2f",
   "metadata": {},
   "outputs": [],
   "source": [
    "xtrain , ytrain = np.array(train.data) , np.array(train.target)\n",
    "\n",
    "xtest , ytest = np.array(test.data) , np.array(test.target)"
   ]
  },
  {
   "cell_type": "code",
   "execution_count": 14,
   "id": "4252f555",
   "metadata": {},
   "outputs": [
    {
     "data": {
      "text/plain": [
       "(1728,)"
      ]
     },
     "execution_count": 14,
     "metadata": {},
     "output_type": "execute_result"
    }
   ],
   "source": [
    "xtrain.shape"
   ]
  },
  {
   "cell_type": "code",
   "execution_count": 15,
   "id": "da1bba70",
   "metadata": {},
   "outputs": [
    {
     "data": {
      "text/plain": [
       "1"
      ]
     },
     "execution_count": 15,
     "metadata": {},
     "output_type": "execute_result"
    }
   ],
   "source": [
    "xtrain.ndim"
   ]
  },
  {
   "cell_type": "code",
   "execution_count": 16,
   "id": "c7488c01",
   "metadata": {},
   "outputs": [
    {
     "data": {
      "text/plain": [
       "(1151,)"
      ]
     },
     "execution_count": 16,
     "metadata": {},
     "output_type": "execute_result"
    }
   ],
   "source": [
    "xtest.shape"
   ]
  },
  {
   "cell_type": "code",
   "execution_count": 17,
   "id": "12c22a66",
   "metadata": {},
   "outputs": [
    {
     "data": {
      "text/plain": [
       "1"
      ]
     },
     "execution_count": 17,
     "metadata": {},
     "output_type": "execute_result"
    }
   ],
   "source": [
    "xtest.ndim"
   ]
  },
  {
   "cell_type": "markdown",
   "id": "a9e3ddb3",
   "metadata": {},
   "source": [
    "# 2- Feature Extraction "
   ]
  },
  {
   "cell_type": "code",
   "execution_count": 18,
   "id": "fd6ebf6a",
   "metadata": {},
   "outputs": [],
   "source": [
    "from sklearn.feature_extraction.text import CountVectorizer\n",
    "\n",
    "import pandas as pd\n",
    "\n",
    "vect=CountVectorizer()"
   ]
  },
  {
   "cell_type": "code",
   "execution_count": 19,
   "id": "d4f8b7ca",
   "metadata": {},
   "outputs": [
    {
     "data": {
      "text/plain": [
       "array([[2, 0, 0, ..., 0, 0, 0],\n",
       "       [2, 0, 0, ..., 0, 0, 0],\n",
       "       [0, 0, 0, ..., 0, 0, 0],\n",
       "       ...,\n",
       "       [0, 0, 0, ..., 0, 0, 0],\n",
       "       [0, 0, 0, ..., 0, 0, 0],\n",
       "       [0, 0, 0, ..., 0, 0, 0]], dtype=int64)"
      ]
     },
     "execution_count": 19,
     "metadata": {},
     "output_type": "execute_result"
    }
   ],
   "source": [
    "cv_train = vect.fit_transform(xtrain).toarray()\n",
    "cv_train"
   ]
  },
  {
   "cell_type": "code",
   "execution_count": 20,
   "id": "2220e370",
   "metadata": {},
   "outputs": [
    {
     "data": {
      "text/plain": [
       "array([[0, 0, 0, ..., 0, 0, 0],\n",
       "       [0, 0, 0, ..., 0, 0, 0],\n",
       "       [0, 0, 0, ..., 0, 0, 0],\n",
       "       ...,\n",
       "       [0, 0, 0, ..., 0, 0, 0],\n",
       "       [0, 0, 0, ..., 0, 0, 0],\n",
       "       [0, 0, 0, ..., 0, 0, 0]], dtype=int64)"
      ]
     },
     "execution_count": 20,
     "metadata": {},
     "output_type": "execute_result"
    }
   ],
   "source": [
    "cv_test = vect.transform(xtest).toarray()\n",
    "cv_test"
   ]
  },
  {
   "cell_type": "markdown",
   "id": "a008ae68",
   "metadata": {},
   "source": [
    "cv_test.shape"
   ]
  },
  {
   "cell_type": "code",
   "execution_count": 21,
   "id": "0c7a3f26",
   "metadata": {},
   "outputs": [
    {
     "data": {
      "text/plain": [
       "(1728, 31652)"
      ]
     },
     "execution_count": 21,
     "metadata": {},
     "output_type": "execute_result"
    }
   ],
   "source": [
    "cv_train.shape\n"
   ]
  },
  {
   "cell_type": "code",
   "execution_count": 23,
   "id": "2735174d",
   "metadata": {},
   "outputs": [
    {
     "data": {
      "text/plain": [
       "2"
      ]
     },
     "execution_count": 23,
     "metadata": {},
     "output_type": "execute_result"
    }
   ],
   "source": [
    "cv_train.ndim\n",
    "\n"
   ]
  },
  {
   "cell_type": "code",
   "execution_count": 24,
   "id": "ad0e0ee0",
   "metadata": {},
   "outputs": [
    {
     "data": {
      "text/plain": [
       "2"
      ]
     },
     "execution_count": 24,
     "metadata": {},
     "output_type": "execute_result"
    }
   ],
   "source": [
    "cv_test.ndim"
   ]
  },
  {
   "cell_type": "markdown",
   "id": "e81b4fc5",
   "metadata": {},
   "source": [
    "# 3- Naive_Bayes Algorithm"
   ]
  },
  {
   "cell_type": "code",
   "execution_count": 25,
   "id": "46fd0b0e",
   "metadata": {},
   "outputs": [],
   "source": [
    "from sklearn.naive_bayes import MultinomialNB\n",
    "\n",
    "from sklearn.metrics import confusion_matrix,recall_score,precision_score\n",
    "\n",
    "nb = MultinomialNB()\n",
    "\n"
   ]
  },
  {
   "cell_type": "code",
   "execution_count": 26,
   "id": "e347811b",
   "metadata": {},
   "outputs": [
    {
     "data": {
      "text/plain": [
       "MultinomialNB()"
      ]
     },
     "execution_count": 26,
     "metadata": {},
     "output_type": "execute_result"
    }
   ],
   "source": [
    "nb.fit(cv_train,ytrain)\n"
   ]
  },
  {
   "cell_type": "code",
   "execution_count": 27,
   "id": "ea36e4bc",
   "metadata": {},
   "outputs": [
    {
     "data": {
      "text/plain": [
       "0.9988425925925926"
      ]
     },
     "execution_count": 27,
     "metadata": {},
     "output_type": "execute_result"
    }
   ],
   "source": [
    "train_score=nb.score(cv_train,ytrain)\n",
    "train_score"
   ]
  },
  {
   "cell_type": "code",
   "execution_count": 28,
   "id": "f9f56574",
   "metadata": {},
   "outputs": [
    {
     "data": {
      "text/plain": [
       "0.9817549956559514"
      ]
     },
     "execution_count": 28,
     "metadata": {},
     "output_type": "execute_result"
    }
   ],
   "source": [
    "test_score = nb.score(cv_test,ytest)\n",
    "test_score"
   ]
  },
  {
   "cell_type": "code",
   "execution_count": 29,
   "id": "84920cdb",
   "metadata": {},
   "outputs": [],
   "source": [
    "pred = nb.predict(cv_test)"
   ]
  },
  {
   "cell_type": "code",
   "execution_count": 30,
   "id": "76631fff",
   "metadata": {},
   "outputs": [
    {
     "data": {
      "text/plain": [
       "array([389, 398, 364], dtype=int64)"
      ]
     },
     "execution_count": 30,
     "metadata": {},
     "output_type": "execute_result"
    }
   ],
   "source": [
    "np.bincount(ytest)"
   ]
  },
  {
   "cell_type": "code",
   "execution_count": 31,
   "id": "61887fd5",
   "metadata": {},
   "outputs": [
    {
     "data": {
      "text/plain": [
       "array([[377,   3,   9],\n",
       "       [  1, 396,   1],\n",
       "       [  1,   6, 357]], dtype=int64)"
      ]
     },
     "execution_count": 31,
     "metadata": {},
     "output_type": "execute_result"
    }
   ],
   "source": [
    "confusion_matrix(ytest,pred)"
   ]
  },
  {
   "cell_type": "code",
   "execution_count": 32,
   "id": "98347101",
   "metadata": {},
   "outputs": [
    {
     "name": "stdout",
     "output_type": "stream",
     "text": [
      "Precision Score :  0.9819153162260787\n"
     ]
    }
   ],
   "source": [
    "print(\"Precision Score : \",precision_score(ytest,pred,average='weighted'))"
   ]
  },
  {
   "cell_type": "code",
   "execution_count": 33,
   "id": "d95826cd",
   "metadata": {},
   "outputs": [
    {
     "name": "stdout",
     "output_type": "stream",
     "text": [
      "Recall Score : 0.9817549956559514\n"
     ]
    }
   ],
   "source": [
    "\n",
    "print(\"Recall Score :\" , recall_score(ytest, pred, average='weighted'))"
   ]
  },
  {
   "cell_type": "code",
   "execution_count": 34,
   "id": "db45303e",
   "metadata": {},
   "outputs": [
    {
     "data": {
      "text/plain": [
       "0.9817549956559514"
      ]
     },
     "execution_count": 34,
     "metadata": {},
     "output_type": "execute_result"
    }
   ],
   "source": [
    "from sklearn.metrics import accuracy_score \n",
    "\n",
    "accuracy_score(ytest,pred)"
   ]
  },
  {
   "cell_type": "markdown",
   "id": "a7a126d1",
   "metadata": {},
   "source": [
    "### testing new texts"
   ]
  },
  {
   "cell_type": "markdown",
   "id": "31756cd1",
   "metadata": {},
   "source": []
  },
  {
   "cell_type": "code",
   "execution_count": 35,
   "id": "3d00329d",
   "metadata": {},
   "outputs": [],
   "source": [
    "new_test1=['My laptop graphics not working']"
   ]
  },
  {
   "cell_type": "code",
   "execution_count": 36,
   "id": "0447368b",
   "metadata": {},
   "outputs": [],
   "source": [
    "t1=vect.transform(new_test1)"
   ]
  },
  {
   "cell_type": "code",
   "execution_count": 37,
   "id": "12fc0dd4",
   "metadata": {},
   "outputs": [
    {
     "data": {
      "text/plain": [
       "(1, 31652)"
      ]
     },
     "execution_count": 37,
     "metadata": {},
     "output_type": "execute_result"
    }
   ],
   "source": [
    "t1.shape"
   ]
  },
  {
   "cell_type": "code",
   "execution_count": 38,
   "id": "4f67bfdd",
   "metadata": {},
   "outputs": [
    {
     "data": {
      "text/plain": [
       "array([0], dtype=int64)"
      ]
     },
     "execution_count": 38,
     "metadata": {},
     "output_type": "execute_result"
    }
   ],
   "source": [
    "nb.predict(t1)           # 'comp.graphics'     = 0\n",
    "                         #'rec.motorcycles'    = 1\n",
    "                         #'talk.politics.guns' = 2"
   ]
  },
  {
   "cell_type": "code",
   "execution_count": null,
   "id": "8a2d43d4",
   "metadata": {},
   "outputs": [],
   "source": []
  },
  {
   "cell_type": "code",
   "execution_count": 39,
   "id": "43557a5b",
   "metadata": {},
   "outputs": [],
   "source": [
    "new_test2=['Government can not allow weapon in country']"
   ]
  },
  {
   "cell_type": "code",
   "execution_count": 40,
   "id": "21648a8e",
   "metadata": {},
   "outputs": [],
   "source": [
    "t2=vect.transform(new_test2)"
   ]
  },
  {
   "cell_type": "code",
   "execution_count": 41,
   "id": "5126b705",
   "metadata": {},
   "outputs": [
    {
     "data": {
      "text/plain": [
       "(1, 31652)"
      ]
     },
     "execution_count": 41,
     "metadata": {},
     "output_type": "execute_result"
    }
   ],
   "source": [
    "t2.shape"
   ]
  },
  {
   "cell_type": "code",
   "execution_count": 42,
   "id": "9706e4e9",
   "metadata": {},
   "outputs": [
    {
     "data": {
      "text/plain": [
       "array([2], dtype=int64)"
      ]
     },
     "execution_count": 42,
     "metadata": {},
     "output_type": "execute_result"
    }
   ],
   "source": [
    "nb.predict(t2)                   # 'comp.graphics'     = 0\n",
    "                                 #'rec.motorcycles'    = 1\n",
    "                                 #'talk.politics.guns' = 2"
   ]
  },
  {
   "cell_type": "code",
   "execution_count": null,
   "id": "6894729a",
   "metadata": {},
   "outputs": [],
   "source": []
  },
  {
   "cell_type": "code",
   "execution_count": 43,
   "id": "813f22ec",
   "metadata": {},
   "outputs": [],
   "source": [
    "new_test3=['do you have a motor bike']"
   ]
  },
  {
   "cell_type": "code",
   "execution_count": 44,
   "id": "f0093b68",
   "metadata": {},
   "outputs": [],
   "source": [
    "t3=vect.transform(new_test3)"
   ]
  },
  {
   "cell_type": "code",
   "execution_count": 45,
   "id": "c29478e5",
   "metadata": {},
   "outputs": [
    {
     "data": {
      "text/plain": [
       "(1, 31652)"
      ]
     },
     "execution_count": 45,
     "metadata": {},
     "output_type": "execute_result"
    }
   ],
   "source": [
    "t3.shape"
   ]
  },
  {
   "cell_type": "code",
   "execution_count": 46,
   "id": "144e70d9",
   "metadata": {},
   "outputs": [
    {
     "data": {
      "text/plain": [
       "array([1], dtype=int64)"
      ]
     },
     "execution_count": 46,
     "metadata": {},
     "output_type": "execute_result"
    }
   ],
   "source": [
    "nb.predict(t3)                   # 'comp.graphics'     = 0\n",
    "                                 #'rec.motorcycles'    = 1\n",
    "                                 #'talk.politics.guns' = 2"
   ]
  },
  {
   "cell_type": "code",
   "execution_count": null,
   "id": "4b1fdab0",
   "metadata": {},
   "outputs": [],
   "source": []
  },
  {
   "cell_type": "code",
   "execution_count": null,
   "id": "200560a6",
   "metadata": {},
   "outputs": [],
   "source": []
  }
 ],
 "metadata": {
  "kernelspec": {
   "display_name": "Python 3",
   "language": "python",
   "name": "python3"
  },
  "language_info": {
   "codemirror_mode": {
    "name": "ipython",
    "version": 3
   },
   "file_extension": ".py",
   "mimetype": "text/x-python",
   "name": "python",
   "nbconvert_exporter": "python",
   "pygments_lexer": "ipython3",
   "version": "3.8.8"
  }
 },
 "nbformat": 4,
 "nbformat_minor": 5
}
